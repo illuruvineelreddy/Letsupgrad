{
  "nbformat": 4,
  "nbformat_minor": 0,
  "metadata": {
    "colab": {
      "name": "LetsUpgrad_Day3_Assignment.ipynb",
      "provenance": [],
      "authorship_tag": "ABX9TyMUbC2zCfN2q6HiVkQAKvWV",
      "include_colab_link": true
    },
    "kernelspec": {
      "name": "python3",
      "display_name": "Python 3"
    }
  },
  "cells": [
    {
      "cell_type": "markdown",
      "metadata": {
        "id": "view-in-github",
        "colab_type": "text"
      },
      "source": [
        "<a href=\"https://colab.research.google.com/github/illuruvineelreddy/Letsupgrad/blob/master/LetsUpgrad_Day3_Assignment.ipynb\" target=\"_parent\"><img src=\"https://colab.research.google.com/assets/colab-badge.svg\" alt=\"Open In Colab\"/></a>"
      ]
    },
    {
      "cell_type": "code",
      "metadata": {
        "id": "qH9c-1ao_Bm0",
        "colab_type": "code",
        "colab": {
          "base_uri": "https://localhost:8080/",
          "height": 34
        },
        "outputId": "b1649f82-58a0-47ee-fc23-b9dfb797c178"
      },
      "source": [
        "# Subtracting the two complex numbers\n",
        "\n",
        "a = 7+8j\n",
        "b = 2-6j\n",
        "c = a - b\n",
        "print(c)"
      ],
      "execution_count": 6,
      "outputs": [
        {
          "output_type": "stream",
          "text": [
            "(5+14j)\n"
          ],
          "name": "stdout"
        }
      ]
    },
    {
      "cell_type": "code",
      "metadata": {
        "id": "9UcB82mx_4TH",
        "colab_type": "code",
        "colab": {
          "base_uri": "https://localhost:8080/",
          "height": 34
        },
        "outputId": "63dec026-8247-415e-ef98-88a43542ed88"
      },
      "source": [
        "# finding the fourth root of a number\n",
        "#Finding fourth root of a number\n",
        "\n",
        "import math\n",
        "a = 1052\n",
        "b = math.sqrt(math.sqrt(a))\n",
        "print(\"Fourth root of a is \",b)\n"
      ],
      "execution_count": 28,
      "outputs": [
        {
          "output_type": "stream",
          "text": [
            "Fourth root of a is  5.695133842189638\n"
          ],
          "name": "stdout"
        }
      ]
    },
    {
      "cell_type": "code",
      "metadata": {
        "id": "8rpzgtiiAg00",
        "colab_type": "code",
        "colab": {
          "base_uri": "https://localhost:8080/",
          "height": 51
        },
        "outputId": "b6914c71-5b06-49ca-8239-44d5b185a242"
      },
      "source": [
        "# swaping the two numbers with the help of a temporary variable.\n",
        "a = 100\n",
        "b = 50\n",
        "c = b # c is temp variable\n",
        "b = a\n",
        "print(\"a =\", c)\n",
        "print(\"b =\", b)\n"
      ],
      "execution_count": 13,
      "outputs": [
        {
          "output_type": "stream",
          "text": [
            "a = 50\n",
            "b = 100\n"
          ],
          "name": "stdout"
        }
      ]
    },
    {
      "cell_type": "code",
      "metadata": {
        "id": "IBCAKMX5CUN2",
        "colab_type": "code",
        "colab": {
          "base_uri": "https://localhost:8080/",
          "height": 51
        },
        "outputId": "00f6a42f-c55d-447e-8e78-ae68222a6bdb"
      },
      "source": [
        "# swaping the two numbers without variable\n",
        "a = 50\n",
        "b = 25\n",
        "a = a + b\n",
        "b = a - b\n",
        "a = a - b\n",
        "print(\"a =\", a)\n",
        "print(\"b =\", b)"
      ],
      "execution_count": 11,
      "outputs": [
        {
          "output_type": "stream",
          "text": [
            "a = 25\n",
            "b = 50\n"
          ],
          "name": "stdout"
        }
      ]
    },
    {
      "cell_type": "code",
      "metadata": {
        "id": "tdkoLmcKCUhw",
        "colab_type": "code",
        "colab": {
          "base_uri": "https://localhost:8080/",
          "height": 51
        },
        "outputId": "f5b4d45c-9962-4861-c165-7e0aaf49bee9"
      },
      "source": [
        "# convert Fahrenheit to kelvin and celsius\n",
        "Fahrenheit = 122\n",
        "celsius = (Fahrenheit - 32)*5/9\n",
        "kelvin = (Fahrenheit - 32)*5/9 + 273.5\n",
        "print(\"celsius =\", celsius)\n",
        "print(\"kelvin =\", kelvin)"
      ],
      "execution_count": 16,
      "outputs": [
        {
          "output_type": "stream",
          "text": [
            "celsius = 50.0\n",
            "kelvin = 323.5\n"
          ],
          "name": "stdout"
        }
      ]
    },
    {
      "cell_type": "code",
      "metadata": {
        "id": "8xPhBxPZDu9C",
        "colab_type": "code",
        "colab": {
          "base_uri": "https://localhost:8080/",
          "height": 34
        },
        "outputId": "354ebbc5-1a8b-4dbf-e8bf-0114a52cf4fd"
      },
      "source": [
        "# Demonstrating the data types \n",
        "# Integer\n",
        "a = 12\n",
        "type(a)"
      ],
      "execution_count": 21,
      "outputs": [
        {
          "output_type": "execute_result",
          "data": {
            "text/plain": [
              "int"
            ]
          },
          "metadata": {
            "tags": []
          },
          "execution_count": 21
        }
      ]
    },
    {
      "cell_type": "code",
      "metadata": {
        "id": "Bz6mvM-6Ucws",
        "colab_type": "code",
        "colab": {
          "base_uri": "https://localhost:8080/",
          "height": 34
        },
        "outputId": "631609c5-ab95-4990-b3d2-85e721016df7"
      },
      "source": [
        "#float \n",
        "b = 0.7\n",
        "type(b)"
      ],
      "execution_count": 22,
      "outputs": [
        {
          "output_type": "execute_result",
          "data": {
            "text/plain": [
              "float"
            ]
          },
          "metadata": {
            "tags": []
          },
          "execution_count": 22
        }
      ]
    },
    {
      "cell_type": "code",
      "metadata": {
        "id": "0pqXcSHHU02F",
        "colab_type": "code",
        "colab": {
          "base_uri": "https://localhost:8080/",
          "height": 34
        },
        "outputId": "b915a65c-f71a-4a68-b9dd-1537f6a360d0"
      },
      "source": [
        "#string\n",
        "c = \"Vineel\" \n",
        "type(c)"
      ],
      "execution_count": 24,
      "outputs": [
        {
          "output_type": "execute_result",
          "data": {
            "text/plain": [
              "str"
            ]
          },
          "metadata": {
            "tags": []
          },
          "execution_count": 24
        }
      ]
    },
    {
      "cell_type": "code",
      "metadata": {
        "id": "HA7uYlGfU9Bo",
        "colab_type": "code",
        "colab": {
          "base_uri": "https://localhost:8080/",
          "height": 34
        },
        "outputId": "b5ad3700-758c-4e99-e727-d8aadba6eff7"
      },
      "source": [
        "# complex number\n",
        "d = 7+7j\n",
        "type(d)"
      ],
      "execution_count": 25,
      "outputs": [
        {
          "output_type": "execute_result",
          "data": {
            "text/plain": [
              "complex"
            ]
          },
          "metadata": {
            "tags": []
          },
          "execution_count": 25
        }
      ]
    },
    {
      "cell_type": "code",
      "metadata": {
        "id": "vnL1Ri5wVPJm",
        "colab_type": "code",
        "colab": {}
      },
      "source": [
        ""
      ],
      "execution_count": null,
      "outputs": []
    }
  ]
}