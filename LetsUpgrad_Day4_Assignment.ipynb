{
  "nbformat": 4,
  "nbformat_minor": 0,
  "metadata": {
    "colab": {
      "name": "LetsUpgrad_Day4_Assignment.ipynb",
      "provenance": [],
      "include_colab_link": true
    },
    "kernelspec": {
      "name": "python3",
      "display_name": "Python 3"
    }
  },
  "cells": [
    {
      "cell_type": "markdown",
      "metadata": {
        "id": "view-in-github",
        "colab_type": "text"
      },
      "source": [
        "<a href=\"https://colab.research.google.com/github/illuruvineelreddy/Letsupgrad/blob/master/LetsUpgrad_Day4_Assignment.ipynb\" target=\"_parent\"><img src=\"https://colab.research.google.com/assets/colab-badge.svg\" alt=\"Open In Colab\"/></a>"
      ]
    },
    {
      "cell_type": "code",
      "metadata": {
        "id": "N9v8yIRQZFOs",
        "colab_type": "code",
        "colab": {
          "base_uri": "https://localhost:8080/",
          "height": 34
        },
        "outputId": "aa59a136-0558-4085-8a71-cbf650affb77"
      },
      "source": [
        "# Demonstrating on complex numbers\n",
        "a = 7+3j\n",
        "b = 6+7j\n",
        "Add = a+b #Addition\n",
        "Sub = a-b #Subtraction\n",
        "Mul = a*b # Multiplication\n",
        "Div = a/b #Divition\n",
        "# We cannot perfrom Modulo on complex Numbers\n",
        "print(Add,Sub,Mul,Div)"
      ],
      "execution_count": 3,
      "outputs": [
        {
          "output_type": "stream",
          "text": [
            "(13+10j) (1-4j) (21+67j) (0.7411764705882353-0.3647058823529412j)\n"
          ],
          "name": "stdout"
        }
      ]
    },
    {
      "cell_type": "markdown",
      "metadata": {
        "id": "qc7XpqBIbvuA",
        "colab_type": "text"
      },
      "source": [
        "# Range() is used to  generate a series of numbers\n",
        "Range() has mainly three arguments\n",
        "start,stop,step"
      ]
    },
    {
      "cell_type": "code",
      "metadata": {
        "id": "UQXlfEUqcYyJ",
        "colab_type": "code",
        "colab": {
          "base_uri": "https://localhost:8080/",
          "height": 34
        },
        "outputId": "cdb89290-5750-4102-b704-4b9895071aad"
      },
      "source": [
        "for i in range(15): \n",
        " print(i, end =\" \") \n",
        "print()"
      ],
      "execution_count": 4,
      "outputs": [
        {
          "output_type": "stream",
          "text": [
            "0 1 2 3 4 5 6 7 8 9 10 11 12 13 14 \n"
          ],
          "name": "stdout"
        }
      ]
    },
    {
      "cell_type": "code",
      "metadata": {
        "id": "xMVXxh-ndZaI",
        "colab_type": "code",
        "colab": {
          "base_uri": "https://localhost:8080/",
          "height": 34
        },
        "outputId": "d9714cb0-296f-45c6-e3dc-226534a7c596"
      },
      "source": [
        "\n",
        "a = 20\n",
        "b = 30\n",
        "c = a-b\n",
        "if c > 25:\n",
        "  print(a*b)\n",
        "else:\n",
        "  print(a/b)"
      ],
      "execution_count": 5,
      "outputs": [
        {
          "output_type": "stream",
          "text": [
            "0.6666666666666666\n"
          ],
          "name": "stdout"
        }
      ]
    },
    {
      "cell_type": "code",
      "metadata": {
        "id": "bX4UKP5DqX2-",
        "colab_type": "code",
        "colab": {}
      },
      "source": [
        ""
      ],
      "execution_count": null,
      "outputs": []
    }
  ]
}