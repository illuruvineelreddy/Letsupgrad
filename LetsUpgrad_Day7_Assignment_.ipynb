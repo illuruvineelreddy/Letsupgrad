{
  "nbformat": 4,
  "nbformat_minor": 0,
  "metadata": {
    "colab": {
      "name": "LetsUpgrad_Day7_Assignment_.ipynb",
      "provenance": [],
      "authorship_tag": "ABX9TyPrfNNdNPA5eoyfEEGbYDqY",
      "include_colab_link": true
    },
    "kernelspec": {
      "name": "python3",
      "display_name": "Python 3"
    }
  },
  "cells": [
    {
      "cell_type": "markdown",
      "metadata": {
        "id": "view-in-github",
        "colab_type": "text"
      },
      "source": [
        "<a href=\"https://colab.research.google.com/github/illuruvineelreddy/Letsupgrad/blob/master/LetsUpgrad_Day7_Assignment_.ipynb\" target=\"_parent\"><img src=\"https://colab.research.google.com/assets/colab-badge.svg\" alt=\"Open In Colab\"/></a>"
      ]
    },
    {
      "cell_type": "markdown",
      "metadata": {
        "id": "qiGwuPdDnZcz",
        "colab_type": "text"
      },
      "source": [
        "Question 1:\n",
        "Write a program to copy the contents of one file to another using a for loop. (Don’t use built-in copy\n",
        "function)"
      ]
    },
    {
      "cell_type": "code",
      "metadata": {
        "id": "uv-iIbKDn21z",
        "colab_type": "code",
        "colab": {}
      },
      "source": [
        "f1=open(\"Text.txt\",\"r\")\n",
        "f2=open(\"Text1.txt\",\"w\")\n",
        "r=f1.readlines()\n",
        "for i in r:\n",
        "    f2.write(i)\n",
        "f1.close()\n",
        "f2.close()"
      ],
      "execution_count": null,
      "outputs": []
    },
    {
      "cell_type": "markdown",
      "metadata": {
        "id": "nw9hZ9BCnsUj",
        "colab_type": "text"
      },
      "source": [
        "Question 2:\n",
        "Write a Python program to find maximum and minimum values in the dictionary. Do not use built-in min\n",
        "and max functions."
      ]
    },
    {
      "cell_type": "code",
      "metadata": {
        "id": "br6iE07SnsCE",
        "colab_type": "code",
        "colab": {
          "base_uri": "https://localhost:8080/",
          "height": 52
        },
        "outputId": "58291384-e167-4561-d0fd-6b0939c5153d"
      },
      "source": [
        "a={1:7,2:50,3:66,4:90,5:15}\n",
        "b=[]\n",
        "for i in a.keys():\n",
        "    b.append(a.get(i))\n",
        "for i in range(len(b)):\n",
        "    for j in range(len(b)-1):\n",
        "        if b[j]>b[j+1]:\n",
        "            b[j],b[j+1]=b[j+1],b[j]\n",
        "print(\"Maximum Value:\",b[-1])\n",
        "print(\"Minimum Value:\",b[0])"
      ],
      "execution_count": 4,
      "outputs": [
        {
          "output_type": "stream",
          "text": [
            "Maximum Value: 90\n",
            "Minimum Value: 7\n"
          ],
          "name": "stdout"
        }
      ]
    },
    {
      "cell_type": "code",
      "metadata": {
        "id": "5R6bOhMvn8ng",
        "colab_type": "code",
        "colab": {}
      },
      "source": [
        ""
      ],
      "execution_count": null,
      "outputs": []
    }
  ]
}