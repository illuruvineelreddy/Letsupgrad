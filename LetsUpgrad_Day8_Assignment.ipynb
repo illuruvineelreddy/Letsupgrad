{
  "nbformat": 4,
  "nbformat_minor": 0,
  "metadata": {
    "colab": {
      "name": "LetsUpgrad_Day8_Assignment.ipynb",
      "provenance": [],
      "authorship_tag": "ABX9TyNhIyda1kdqM70dge2GYeME",
      "include_colab_link": true
    },
    "kernelspec": {
      "name": "python3",
      "display_name": "Python 3"
    }
  },
  "cells": [
    {
      "cell_type": "markdown",
      "metadata": {
        "id": "view-in-github",
        "colab_type": "text"
      },
      "source": [
        "<a href=\"https://colab.research.google.com/github/illuruvineelreddy/Letsupgrad/blob/master/LetsUpgrad_Day8_Assignment.ipynb\" target=\"_parent\"><img src=\"https://colab.research.google.com/assets/colab-badge.svg\" alt=\"Open In Colab\"/></a>"
      ]
    },
    {
      "cell_type": "markdown",
      "metadata": {
        "id": "2jlT4g89pvJR",
        "colab_type": "text"
      },
      "source": [
        "Question 1:\n",
        "Recreate “NB 21 map, filter, lambda.ipynb” to try different variations or perform different calculations from the ones that are in the NB\n",
        "\n",
        "Lambda\n",
        "A lambda function is a small anonymous function.\n",
        "\n",
        "A lambda function can take any number of arguments, but can only have one expression.\n",
        "\n",
        "Syntax of lambda lambda(arguments:expression)\n",
        "\n",
        "The expression is executed and the result is returned:"
      ]
    },
    {
      "cell_type": "code",
      "metadata": {
        "id": "LTcKDkXXpiRA",
        "colab_type": "code",
        "colab": {
          "base_uri": "https://localhost:8080/",
          "height": 34
        },
        "outputId": "03a9bf58-0450-4857-93f9-a0c054a05396"
      },
      "source": [
        "l = lambda a:a*a\n",
        "print(l(5))"
      ],
      "execution_count": 2,
      "outputs": [
        {
          "output_type": "stream",
          "text": [
            "25\n"
          ],
          "name": "stdout"
        }
      ]
    },
    {
      "cell_type": "code",
      "metadata": {
        "id": "3f98x73ep0Eb",
        "colab_type": "code",
        "colab": {
          "base_uri": "https://localhost:8080/",
          "height": 34
        },
        "outputId": "0a0c7c02-4d81-4b72-96b8-67cbd2fa463f"
      },
      "source": [
        "l1 = lambda x,y:x+y           \n",
        "print(l1(10,50))"
      ],
      "execution_count": 3,
      "outputs": [
        {
          "output_type": "stream",
          "text": [
            "60\n"
          ],
          "name": "stdout"
        }
      ]
    },
    {
      "cell_type": "code",
      "metadata": {
        "id": "OueUKXoMqAgX",
        "colab_type": "code",
        "colab": {
          "base_uri": "https://localhost:8080/",
          "height": 34
        },
        "outputId": "8547bea2-692a-4121-fd59-2f759cb16362"
      },
      "source": [
        "l2 = lambda a,b,c:a+b-c\n",
        "print(l2(20,2,40))"
      ],
      "execution_count": 5,
      "outputs": [
        {
          "output_type": "stream",
          "text": [
            "-18\n"
          ],
          "name": "stdout"
        }
      ]
    },
    {
      "cell_type": "markdown",
      "metadata": {
        "id": "ppAh_zo3qTwX",
        "colab_type": "text"
      },
      "source": [
        "The filter() function returns an iterator were the items are filtered through a function to test if the item is                 accepted or not."
      ]
    },
    {
      "cell_type": "code",
      "metadata": {
        "id": "SSTiFnmRqGfL",
        "colab_type": "code",
        "colab": {
          "base_uri": "https://localhost:8080/",
          "height": 34
        },
        "outputId": "c3cc8fc8-d4de-463f-ceb5-d957d779676d"
      },
      "source": [
        "def is_even(n):\n",
        "    return n%2==0\n",
        "\n",
        "x = list(filter(is_even,[1,2,3,4,5,6,7,8,9]))\n",
        "print(x)"
      ],
      "execution_count": 7,
      "outputs": [
        {
          "output_type": "stream",
          "text": [
            "[2, 4, 6, 8]\n"
          ],
          "name": "stdout"
        }
      ]
    },
    {
      "cell_type": "code",
      "metadata": {
        "id": "G-Q6dwRVqYFM",
        "colab_type": "code",
        "colab": {
          "base_uri": "https://localhost:8080/",
          "height": 34
        },
        "outputId": "e3478867-d3e4-412b-c3ad-9ceb15bff11c"
      },
      "source": [
        "print(list(filter(lambda n:n%2==0 ,[1,2,3,4,5,6,7,8,9])))"
      ],
      "execution_count": 9,
      "outputs": [
        {
          "output_type": "stream",
          "text": [
            "[2, 4, 6, 8]\n"
          ],
          "name": "stdout"
        }
      ]
    },
    {
      "cell_type": "markdown",
      "metadata": {
        "id": "0s5d4PhWquFd",
        "colab_type": "text"
      },
      "source": [
        "The map() function executes a specified function for each item in an iterable. The item is sent to the function as a           parameter"
      ]
    },
    {
      "cell_type": "code",
      "metadata": {
        "id": "no2l6wz8qkiB",
        "colab_type": "code",
        "colab": {
          "base_uri": "https://localhost:8080/",
          "height": 34
        },
        "outputId": "38d41ef4-1ca2-4c2d-df1c-e6d780133e53"
      },
      "source": [
        "print(list(map(lambda n:n+2 ,[1,2,3,4,5,6,7,8,9])))"
      ],
      "execution_count": 10,
      "outputs": [
        {
          "output_type": "stream",
          "text": [
            "[3, 4, 5, 6, 7, 8, 9, 10, 11]\n"
          ],
          "name": "stdout"
        }
      ]
    },
    {
      "cell_type": "markdown",
      "metadata": {
        "id": "4i1_gkVEq88o",
        "colab_type": "text"
      },
      "source": [
        "The reduce() function is defined in the functools module. Like the map and filter functions, the reduce() function             receives two arguments, a function and an iterable. However, it doesn't return another iterable, instead it returns             a single value."
      ]
    },
    {
      "cell_type": "code",
      "metadata": {
        "id": "iyBTZUp4q3hk",
        "colab_type": "code",
        "colab": {
          "base_uri": "https://localhost:8080/",
          "height": 34
        },
        "outputId": "3b3e0ca1-d6f2-4fb3-858b-ab65051ffc72"
      },
      "source": [
        "from functools import reduce\n",
        "\n",
        "sum = reduce(lambda a,b:a+b,[1,2,3,4])\n",
        "print(sum)"
      ],
      "execution_count": 11,
      "outputs": [
        {
          "output_type": "stream",
          "text": [
            "10\n"
          ],
          "name": "stdout"
        }
      ]
    },
    {
      "cell_type": "markdown",
      "metadata": {
        "id": "PrsNmOb7rLrh",
        "colab_type": "text"
      },
      "source": [
        "Question 2:\n",
        "Recreate your own Python NB for “Classes and Objects” from the pdf provided namely\n",
        "“Classes&Objects.pdf”"
      ]
    },
    {
      "cell_type": "code",
      "metadata": {
        "id": "Oiv1vu4JrGFx",
        "colab_type": "code",
        "colab": {}
      },
      "source": [
        "class myclass():\n",
        "    x=7"
      ],
      "execution_count": 13,
      "outputs": []
    },
    {
      "cell_type": "code",
      "metadata": {
        "id": "2DQk0LHwrRcg",
        "colab_type": "code",
        "colab": {
          "base_uri": "https://localhost:8080/",
          "height": 34
        },
        "outputId": "7e8b7ad9-8b8f-41f1-f347-e04ed8c36857"
      },
      "source": [
        "c1 = myclass()\n",
        "print(c1.x)"
      ],
      "execution_count": 14,
      "outputs": [
        {
          "output_type": "stream",
          "text": [
            "7\n"
          ],
          "name": "stdout"
        }
      ]
    },
    {
      "cell_type": "code",
      "metadata": {
        "id": "bMLl62cKrZ34",
        "colab_type": "code",
        "colab": {
          "base_uri": "https://localhost:8080/",
          "height": 34
        },
        "outputId": "6d6462c2-2d78-4cbd-e022-d00240f28a86"
      },
      "source": [
        "class car:                                          \n",
        "    def __init__(self,name,model,price): \n",
        "        self.name=name\n",
        "        self.price=price\n",
        "        self.model=model\n",
        "c2 = car(\"Land Rover\",\"Range rover velar\",77777)\n",
        "print(c2.name)"
      ],
      "execution_count": 16,
      "outputs": [
        {
          "output_type": "stream",
          "text": [
            "Land Rover\n"
          ],
          "name": "stdout"
        }
      ]
    },
    {
      "cell_type": "code",
      "metadata": {
        "id": "JID43wwOres0",
        "colab_type": "code",
        "colab": {
          "base_uri": "https://localhost:8080/",
          "height": 34
        },
        "outputId": "dd7981f1-44b7-4cc5-854e-af978935eb7b"
      },
      "source": [
        "class car:                                          \n",
        "    def __init__(self,name,model,price):\n",
        "        self.name=name\n",
        "        self.price=price\n",
        "        self.model=model\n",
        "        \n",
        "    def L_rover(self):\n",
        "        print(\"Car name is:\",self.name)\n",
        "        \n",
        "c2 = car(\"Land Rover\",\"Range rover velar\",77777)\n",
        "c2.L_rover()"
      ],
      "execution_count": 17,
      "outputs": [
        {
          "output_type": "stream",
          "text": [
            "Car name is: Land Rover\n"
          ],
          "name": "stdout"
        }
      ]
    },
    {
      "cell_type": "code",
      "metadata": {
        "id": "Fey9y5xarsc9",
        "colab_type": "code",
        "colab": {
          "base_uri": "https://localhost:8080/",
          "height": 70
        },
        "outputId": "6f55e956-2aa5-4f04-a9cd-deec9827d4c4"
      },
      "source": [
        "class employee:\n",
        "    empcount = 0\n",
        "    \n",
        "    def __init__(self,name,salary): \n",
        "        self.name=name\n",
        "        self.salary=salary\n",
        "        \n",
        "        employee.empcount +=1\n",
        "        \n",
        "    def display_count(self):\n",
        "        print(\"Total Employee:\",employee.empcount)\n",
        "        \n",
        "    def display_employee(self):\n",
        "        print(\"Employee Name:\",self.name,\"Salary:\",self.salary)\n",
        "\n",
        "emp1 = employee(\"Vineel\", 7000)\n",
        "emp2 = employee(\"Reddy\", 9000)\n",
        "\n",
        "emp1.display_employee()\n",
        "emp2.display_employee()\n",
        "\n",
        "print(\"Total Employee:\",employee.empcount)"
      ],
      "execution_count": 19,
      "outputs": [
        {
          "output_type": "stream",
          "text": [
            "Employee Name: Vineel Salary: 7000\n",
            "Employee Name: Reddy Salary: 9000\n",
            "Total Employee: 2\n"
          ],
          "name": "stdout"
        }
      ]
    },
    {
      "cell_type": "code",
      "metadata": {
        "id": "KeirQFBLrqUS",
        "colab_type": "code",
        "colab": {}
      },
      "source": [
        ""
      ],
      "execution_count": null,
      "outputs": []
    }
  ]
}